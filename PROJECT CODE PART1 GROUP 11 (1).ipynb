{
 "cells": [
  {
   "cell_type": "markdown",
   "metadata": {},
   "source": [
    "# NYC Taxi Fare Prediction\n",
    "### GROUP-11\n",
    "### Kevin Kurias Saibu\n",
    "### Saujanya Sanjay Zemse"
   ]
  },
  {
   "cell_type": "markdown",
   "metadata": {},
   "source": [
    "## Exploratory data analysis and preprocessing"
   ]
  },
  {
   "cell_type": "code",
   "execution_count": 1,
   "metadata": {},
   "outputs": [],
   "source": [
    "#Importing necessary libraries\n",
    "import pandas as pd\n",
    "import numpy as np\n",
    "import matplotlib.pyplot as plt\n",
    "import seaborn as sns"
   ]
  },
  {
   "cell_type": "code",
   "execution_count": 3,
   "metadata": {},
   "outputs": [],
   "source": [
    "taxi_df=pd.read_csv('train.csv')"
   ]
  },
  {
   "cell_type": "code",
   "execution_count": null,
   "metadata": {},
   "outputs": [],
   "source": [
    "#Sampling the data \n",
    "taxi_fare=taxi_df.sample(frac=0.1,random_state=19)"
   ]
  },
  {
   "cell_type": "code",
   "execution_count": null,
   "metadata": {},
   "outputs": [],
   "source": [
    "taxi_fare.to_csv('sampled_data.csv',index=False)"
   ]
  },
  {
   "cell_type": "code",
   "execution_count": 4,
   "metadata": {},
   "outputs": [
    {
     "data": {
      "text/html": [
       "<div>\n",
       "<style scoped>\n",
       "    .dataframe tbody tr th:only-of-type {\n",
       "        vertical-align: middle;\n",
       "    }\n",
       "\n",
       "    .dataframe tbody tr th {\n",
       "        vertical-align: top;\n",
       "    }\n",
       "\n",
       "    .dataframe thead th {\n",
       "        text-align: right;\n",
       "    }\n",
       "</style>\n",
       "<table border=\"1\" class=\"dataframe\">\n",
       "  <thead>\n",
       "    <tr style=\"text-align: right;\">\n",
       "      <th></th>\n",
       "      <th>key</th>\n",
       "      <th>fare_amount</th>\n",
       "      <th>pickup_datetime</th>\n",
       "      <th>pickup_longitude</th>\n",
       "      <th>pickup_latitude</th>\n",
       "      <th>dropoff_longitude</th>\n",
       "      <th>dropoff_latitude</th>\n",
       "      <th>passenger_count</th>\n",
       "    </tr>\n",
       "  </thead>\n",
       "  <tbody>\n",
       "    <tr>\n",
       "      <th>0</th>\n",
       "      <td>2011-11-21 12:12:23.0000001</td>\n",
       "      <td>7.3</td>\n",
       "      <td>2011-11-21 12:12:23 UTC</td>\n",
       "      <td>-73.971863</td>\n",
       "      <td>40.760189</td>\n",
       "      <td>-73.955239</td>\n",
       "      <td>40.782976</td>\n",
       "      <td>1</td>\n",
       "    </tr>\n",
       "    <tr>\n",
       "      <th>1</th>\n",
       "      <td>2012-02-09 14:08:36.0000001</td>\n",
       "      <td>6.5</td>\n",
       "      <td>2012-02-09 14:08:36 UTC</td>\n",
       "      <td>-73.969345</td>\n",
       "      <td>40.749676</td>\n",
       "      <td>-73.950876</td>\n",
       "      <td>40.770764</td>\n",
       "      <td>1</td>\n",
       "    </tr>\n",
       "    <tr>\n",
       "      <th>2</th>\n",
       "      <td>2012-12-30 21:04:00.000000163</td>\n",
       "      <td>6.5</td>\n",
       "      <td>2012-12-30 21:04:00 UTC</td>\n",
       "      <td>-73.945297</td>\n",
       "      <td>40.775255</td>\n",
       "      <td>-73.959260</td>\n",
       "      <td>40.768440</td>\n",
       "      <td>5</td>\n",
       "    </tr>\n",
       "    <tr>\n",
       "      <th>3</th>\n",
       "      <td>2009-09-19 00:12:00.00000065</td>\n",
       "      <td>13.7</td>\n",
       "      <td>2009-09-19 00:12:00 UTC</td>\n",
       "      <td>0.000000</td>\n",
       "      <td>0.000000</td>\n",
       "      <td>0.000000</td>\n",
       "      <td>0.000000</td>\n",
       "      <td>5</td>\n",
       "    </tr>\n",
       "    <tr>\n",
       "      <th>4</th>\n",
       "      <td>2010-05-03 10:22:09.0000004</td>\n",
       "      <td>9.7</td>\n",
       "      <td>2010-05-03 10:22:09 UTC</td>\n",
       "      <td>-73.985811</td>\n",
       "      <td>40.717965</td>\n",
       "      <td>-73.979805</td>\n",
       "      <td>40.748685</td>\n",
       "      <td>1</td>\n",
       "    </tr>\n",
       "  </tbody>\n",
       "</table>\n",
       "</div>"
      ],
      "text/plain": [
       "                             key  fare_amount          pickup_datetime  \\\n",
       "0    2011-11-21 12:12:23.0000001          7.3  2011-11-21 12:12:23 UTC   \n",
       "1    2012-02-09 14:08:36.0000001          6.5  2012-02-09 14:08:36 UTC   \n",
       "2  2012-12-30 21:04:00.000000163          6.5  2012-12-30 21:04:00 UTC   \n",
       "3   2009-09-19 00:12:00.00000065         13.7  2009-09-19 00:12:00 UTC   \n",
       "4    2010-05-03 10:22:09.0000004          9.7  2010-05-03 10:22:09 UTC   \n",
       "\n",
       "   pickup_longitude  pickup_latitude  dropoff_longitude  dropoff_latitude  \\\n",
       "0        -73.971863        40.760189         -73.955239         40.782976   \n",
       "1        -73.969345        40.749676         -73.950876         40.770764   \n",
       "2        -73.945297        40.775255         -73.959260         40.768440   \n",
       "3          0.000000         0.000000           0.000000          0.000000   \n",
       "4        -73.985811        40.717965         -73.979805         40.748685   \n",
       "\n",
       "   passenger_count  \n",
       "0                1  \n",
       "1                1  \n",
       "2                5  \n",
       "3                5  \n",
       "4                1  "
      ]
     },
     "execution_count": 4,
     "metadata": {},
     "output_type": "execute_result"
    }
   ],
   "source": [
    "taxi_fare.head()"
   ]
  },
  {
   "cell_type": "markdown",
   "metadata": {},
   "source": [
    "## Data cleaning and preprocessing"
   ]
  },
  {
   "cell_type": "code",
   "execution_count": 5,
   "metadata": {},
   "outputs": [
    {
     "data": {
      "text/plain": [
       "key                   0\n",
       "fare_amount           0\n",
       "pickup_datetime       0\n",
       "pickup_longitude      0\n",
       "pickup_latitude       0\n",
       "dropoff_longitude    34\n",
       "dropoff_latitude     34\n",
       "passenger_count       0\n",
       "dtype: int64"
      ]
     },
     "execution_count": 5,
     "metadata": {},
     "output_type": "execute_result"
    }
   ],
   "source": [
    "taxi_fare.isnull().sum()"
   ]
  },
  {
   "cell_type": "code",
   "execution_count": 6,
   "metadata": {},
   "outputs": [
    {
     "data": {
      "text/plain": [
       "(5542386, 8)"
      ]
     },
     "execution_count": 6,
     "metadata": {},
     "output_type": "execute_result"
    }
   ],
   "source": [
    "taxi_fare.shape"
   ]
  },
  {
   "cell_type": "code",
   "execution_count": 7,
   "metadata": {
    "scrolled": false
   },
   "outputs": [
    {
     "data": {
      "text/html": [
       "<div>\n",
       "<style scoped>\n",
       "    .dataframe tbody tr th:only-of-type {\n",
       "        vertical-align: middle;\n",
       "    }\n",
       "\n",
       "    .dataframe tbody tr th {\n",
       "        vertical-align: top;\n",
       "    }\n",
       "\n",
       "    .dataframe thead th {\n",
       "        text-align: right;\n",
       "    }\n",
       "</style>\n",
       "<table border=\"1\" class=\"dataframe\">\n",
       "  <thead>\n",
       "    <tr style=\"text-align: right;\">\n",
       "      <th></th>\n",
       "      <th>key</th>\n",
       "      <th>fare_amount</th>\n",
       "      <th>pickup_datetime</th>\n",
       "      <th>pickup_longitude</th>\n",
       "      <th>pickup_latitude</th>\n",
       "      <th>dropoff_longitude</th>\n",
       "      <th>dropoff_latitude</th>\n",
       "      <th>passenger_count</th>\n",
       "    </tr>\n",
       "  </thead>\n",
       "  <tbody>\n",
       "    <tr>\n",
       "      <th>0</th>\n",
       "      <td>2011-11-21 12:12:23.0000001</td>\n",
       "      <td>7.3</td>\n",
       "      <td>2011-11-21 12:12:23 UTC</td>\n",
       "      <td>-73.971863</td>\n",
       "      <td>40.760189</td>\n",
       "      <td>-73.955239</td>\n",
       "      <td>40.782976</td>\n",
       "      <td>1</td>\n",
       "    </tr>\n",
       "    <tr>\n",
       "      <th>1</th>\n",
       "      <td>2012-02-09 14:08:36.0000001</td>\n",
       "      <td>6.5</td>\n",
       "      <td>2012-02-09 14:08:36 UTC</td>\n",
       "      <td>-73.969345</td>\n",
       "      <td>40.749676</td>\n",
       "      <td>-73.950876</td>\n",
       "      <td>40.770764</td>\n",
       "      <td>1</td>\n",
       "    </tr>\n",
       "    <tr>\n",
       "      <th>2</th>\n",
       "      <td>2012-12-30 21:04:00.000000163</td>\n",
       "      <td>6.5</td>\n",
       "      <td>2012-12-30 21:04:00 UTC</td>\n",
       "      <td>-73.945297</td>\n",
       "      <td>40.775255</td>\n",
       "      <td>-73.959260</td>\n",
       "      <td>40.768440</td>\n",
       "      <td>5</td>\n",
       "    </tr>\n",
       "    <tr>\n",
       "      <th>3</th>\n",
       "      <td>2009-09-19 00:12:00.00000065</td>\n",
       "      <td>13.7</td>\n",
       "      <td>2009-09-19 00:12:00 UTC</td>\n",
       "      <td>0.000000</td>\n",
       "      <td>0.000000</td>\n",
       "      <td>0.000000</td>\n",
       "      <td>0.000000</td>\n",
       "      <td>5</td>\n",
       "    </tr>\n",
       "    <tr>\n",
       "      <th>4</th>\n",
       "      <td>2010-05-03 10:22:09.0000004</td>\n",
       "      <td>9.7</td>\n",
       "      <td>2010-05-03 10:22:09 UTC</td>\n",
       "      <td>-73.985811</td>\n",
       "      <td>40.717965</td>\n",
       "      <td>-73.979805</td>\n",
       "      <td>40.748685</td>\n",
       "      <td>1</td>\n",
       "    </tr>\n",
       "  </tbody>\n",
       "</table>\n",
       "</div>"
      ],
      "text/plain": [
       "                             key  fare_amount          pickup_datetime  \\\n",
       "0    2011-11-21 12:12:23.0000001          7.3  2011-11-21 12:12:23 UTC   \n",
       "1    2012-02-09 14:08:36.0000001          6.5  2012-02-09 14:08:36 UTC   \n",
       "2  2012-12-30 21:04:00.000000163          6.5  2012-12-30 21:04:00 UTC   \n",
       "3   2009-09-19 00:12:00.00000065         13.7  2009-09-19 00:12:00 UTC   \n",
       "4    2010-05-03 10:22:09.0000004          9.7  2010-05-03 10:22:09 UTC   \n",
       "\n",
       "   pickup_longitude  pickup_latitude  dropoff_longitude  dropoff_latitude  \\\n",
       "0        -73.971863        40.760189         -73.955239         40.782976   \n",
       "1        -73.969345        40.749676         -73.950876         40.770764   \n",
       "2        -73.945297        40.775255         -73.959260         40.768440   \n",
       "3          0.000000         0.000000           0.000000          0.000000   \n",
       "4        -73.985811        40.717965         -73.979805         40.748685   \n",
       "\n",
       "   passenger_count  \n",
       "0                1  \n",
       "1                1  \n",
       "2                5  \n",
       "3                5  \n",
       "4                1  "
      ]
     },
     "execution_count": 7,
     "metadata": {},
     "output_type": "execute_result"
    }
   ],
   "source": [
    "taxi_fare.head()"
   ]
  },
  {
   "cell_type": "code",
   "execution_count": 8,
   "metadata": {},
   "outputs": [],
   "source": [
    "import datetime"
   ]
  },
  {
   "cell_type": "markdown",
   "metadata": {},
   "source": [
    "#### Changing the 'datetime' variable's datatype to datetime "
   ]
  },
  {
   "cell_type": "code",
   "execution_count": 9,
   "metadata": {},
   "outputs": [
    {
     "data": {
      "text/plain": [
       "0         2011-11-21 12:12:23+00:00\n",
       "1         2012-02-09 14:08:36+00:00\n",
       "2         2012-12-30 21:04:00+00:00\n",
       "3         2009-09-19 00:12:00+00:00\n",
       "4         2010-05-03 10:22:09+00:00\n",
       "                     ...           \n",
       "5542381   2011-04-29 03:34:14+00:00\n",
       "5542382   2014-06-01 23:19:00+00:00\n",
       "5542383   2011-05-11 19:41:00+00:00\n",
       "5542384   2011-06-07 18:43:00+00:00\n",
       "5542385   2012-10-01 16:56:00+00:00\n",
       "Name: pickup_datetime, Length: 5542386, dtype: datetime64[ns, UTC]"
      ]
     },
     "execution_count": 9,
     "metadata": {},
     "output_type": "execute_result"
    }
   ],
   "source": [
    "pd.to_datetime(taxi_fare['pickup_datetime'])"
   ]
  },
  {
   "cell_type": "markdown",
   "metadata": {},
   "source": [
    "#### Converting the UTC timezone to EST by shifting backwards by 4 hours"
   ]
  },
  {
   "cell_type": "code",
   "execution_count": 10,
   "metadata": {},
   "outputs": [],
   "source": [
    "taxi_fare['pickup_datetime']=pd.to_datetime(taxi_fare['pickup_datetime'])-datetime.timedelta(hours=4)"
   ]
  },
  {
   "cell_type": "code",
   "execution_count": 11,
   "metadata": {},
   "outputs": [
    {
     "data": {
      "text/html": [
       "<div>\n",
       "<style scoped>\n",
       "    .dataframe tbody tr th:only-of-type {\n",
       "        vertical-align: middle;\n",
       "    }\n",
       "\n",
       "    .dataframe tbody tr th {\n",
       "        vertical-align: top;\n",
       "    }\n",
       "\n",
       "    .dataframe thead th {\n",
       "        text-align: right;\n",
       "    }\n",
       "</style>\n",
       "<table border=\"1\" class=\"dataframe\">\n",
       "  <thead>\n",
       "    <tr style=\"text-align: right;\">\n",
       "      <th></th>\n",
       "      <th>key</th>\n",
       "      <th>fare_amount</th>\n",
       "      <th>pickup_datetime</th>\n",
       "      <th>pickup_longitude</th>\n",
       "      <th>pickup_latitude</th>\n",
       "      <th>dropoff_longitude</th>\n",
       "      <th>dropoff_latitude</th>\n",
       "      <th>passenger_count</th>\n",
       "    </tr>\n",
       "  </thead>\n",
       "  <tbody>\n",
       "    <tr>\n",
       "      <th>0</th>\n",
       "      <td>2011-11-21 12:12:23.0000001</td>\n",
       "      <td>7.3</td>\n",
       "      <td>2011-11-21 08:12:23+00:00</td>\n",
       "      <td>-73.971863</td>\n",
       "      <td>40.760189</td>\n",
       "      <td>-73.955239</td>\n",
       "      <td>40.782976</td>\n",
       "      <td>1</td>\n",
       "    </tr>\n",
       "    <tr>\n",
       "      <th>1</th>\n",
       "      <td>2012-02-09 14:08:36.0000001</td>\n",
       "      <td>6.5</td>\n",
       "      <td>2012-02-09 10:08:36+00:00</td>\n",
       "      <td>-73.969345</td>\n",
       "      <td>40.749676</td>\n",
       "      <td>-73.950876</td>\n",
       "      <td>40.770764</td>\n",
       "      <td>1</td>\n",
       "    </tr>\n",
       "    <tr>\n",
       "      <th>2</th>\n",
       "      <td>2012-12-30 21:04:00.000000163</td>\n",
       "      <td>6.5</td>\n",
       "      <td>2012-12-30 17:04:00+00:00</td>\n",
       "      <td>-73.945297</td>\n",
       "      <td>40.775255</td>\n",
       "      <td>-73.959260</td>\n",
       "      <td>40.768440</td>\n",
       "      <td>5</td>\n",
       "    </tr>\n",
       "    <tr>\n",
       "      <th>3</th>\n",
       "      <td>2009-09-19 00:12:00.00000065</td>\n",
       "      <td>13.7</td>\n",
       "      <td>2009-09-18 20:12:00+00:00</td>\n",
       "      <td>0.000000</td>\n",
       "      <td>0.000000</td>\n",
       "      <td>0.000000</td>\n",
       "      <td>0.000000</td>\n",
       "      <td>5</td>\n",
       "    </tr>\n",
       "    <tr>\n",
       "      <th>4</th>\n",
       "      <td>2010-05-03 10:22:09.0000004</td>\n",
       "      <td>9.7</td>\n",
       "      <td>2010-05-03 06:22:09+00:00</td>\n",
       "      <td>-73.985811</td>\n",
       "      <td>40.717965</td>\n",
       "      <td>-73.979805</td>\n",
       "      <td>40.748685</td>\n",
       "      <td>1</td>\n",
       "    </tr>\n",
       "  </tbody>\n",
       "</table>\n",
       "</div>"
      ],
      "text/plain": [
       "                             key  fare_amount           pickup_datetime  \\\n",
       "0    2011-11-21 12:12:23.0000001          7.3 2011-11-21 08:12:23+00:00   \n",
       "1    2012-02-09 14:08:36.0000001          6.5 2012-02-09 10:08:36+00:00   \n",
       "2  2012-12-30 21:04:00.000000163          6.5 2012-12-30 17:04:00+00:00   \n",
       "3   2009-09-19 00:12:00.00000065         13.7 2009-09-18 20:12:00+00:00   \n",
       "4    2010-05-03 10:22:09.0000004          9.7 2010-05-03 06:22:09+00:00   \n",
       "\n",
       "   pickup_longitude  pickup_latitude  dropoff_longitude  dropoff_latitude  \\\n",
       "0        -73.971863        40.760189         -73.955239         40.782976   \n",
       "1        -73.969345        40.749676         -73.950876         40.770764   \n",
       "2        -73.945297        40.775255         -73.959260         40.768440   \n",
       "3          0.000000         0.000000           0.000000          0.000000   \n",
       "4        -73.985811        40.717965         -73.979805         40.748685   \n",
       "\n",
       "   passenger_count  \n",
       "0                1  \n",
       "1                1  \n",
       "2                5  \n",
       "3                5  \n",
       "4                1  "
      ]
     },
     "execution_count": 11,
     "metadata": {},
     "output_type": "execute_result"
    }
   ],
   "source": [
    "taxi_fare.head()"
   ]
  },
  {
   "cell_type": "markdown",
   "metadata": {},
   "source": [
    "#### Extracting year,month,day,weekday,hours,minutes from the datetime variable for further analysis"
   ]
  },
  {
   "cell_type": "code",
   "execution_count": 12,
   "metadata": {},
   "outputs": [],
   "source": [
    "taxi_fare['year']=taxi_fare['pickup_datetime'].dt.year\n",
    "taxi_fare['month']=taxi_fare['pickup_datetime'].dt.month\n",
    "taxi_fare['day']=taxi_fare['pickup_datetime'].dt.day\n",
    "taxi_fare['hour']=taxi_fare['pickup_datetime'].dt.hour\n",
    "taxi_fare['minute']=taxi_fare['pickup_datetime'].dt.minute\n",
    "taxi_fare['weekday']=taxi_fare['pickup_datetime'].dt.weekday"
   ]
  },
  {
   "cell_type": "code",
   "execution_count": 13,
   "metadata": {},
   "outputs": [
    {
     "data": {
      "text/html": [
       "<div>\n",
       "<style scoped>\n",
       "    .dataframe tbody tr th:only-of-type {\n",
       "        vertical-align: middle;\n",
       "    }\n",
       "\n",
       "    .dataframe tbody tr th {\n",
       "        vertical-align: top;\n",
       "    }\n",
       "\n",
       "    .dataframe thead th {\n",
       "        text-align: right;\n",
       "    }\n",
       "</style>\n",
       "<table border=\"1\" class=\"dataframe\">\n",
       "  <thead>\n",
       "    <tr style=\"text-align: right;\">\n",
       "      <th></th>\n",
       "      <th>key</th>\n",
       "      <th>fare_amount</th>\n",
       "      <th>pickup_datetime</th>\n",
       "      <th>pickup_longitude</th>\n",
       "      <th>pickup_latitude</th>\n",
       "      <th>dropoff_longitude</th>\n",
       "      <th>dropoff_latitude</th>\n",
       "      <th>passenger_count</th>\n",
       "      <th>year</th>\n",
       "      <th>month</th>\n",
       "      <th>day</th>\n",
       "      <th>hour</th>\n",
       "      <th>minute</th>\n",
       "      <th>weekday</th>\n",
       "    </tr>\n",
       "  </thead>\n",
       "  <tbody>\n",
       "    <tr>\n",
       "      <th>0</th>\n",
       "      <td>2011-11-21 12:12:23.0000001</td>\n",
       "      <td>7.3</td>\n",
       "      <td>2011-11-21 08:12:23+00:00</td>\n",
       "      <td>-73.971863</td>\n",
       "      <td>40.760189</td>\n",
       "      <td>-73.955239</td>\n",
       "      <td>40.782976</td>\n",
       "      <td>1</td>\n",
       "      <td>2011</td>\n",
       "      <td>11</td>\n",
       "      <td>21</td>\n",
       "      <td>8</td>\n",
       "      <td>12</td>\n",
       "      <td>0</td>\n",
       "    </tr>\n",
       "    <tr>\n",
       "      <th>1</th>\n",
       "      <td>2012-02-09 14:08:36.0000001</td>\n",
       "      <td>6.5</td>\n",
       "      <td>2012-02-09 10:08:36+00:00</td>\n",
       "      <td>-73.969345</td>\n",
       "      <td>40.749676</td>\n",
       "      <td>-73.950876</td>\n",
       "      <td>40.770764</td>\n",
       "      <td>1</td>\n",
       "      <td>2012</td>\n",
       "      <td>2</td>\n",
       "      <td>9</td>\n",
       "      <td>10</td>\n",
       "      <td>8</td>\n",
       "      <td>3</td>\n",
       "    </tr>\n",
       "    <tr>\n",
       "      <th>2</th>\n",
       "      <td>2012-12-30 21:04:00.000000163</td>\n",
       "      <td>6.5</td>\n",
       "      <td>2012-12-30 17:04:00+00:00</td>\n",
       "      <td>-73.945297</td>\n",
       "      <td>40.775255</td>\n",
       "      <td>-73.959260</td>\n",
       "      <td>40.768440</td>\n",
       "      <td>5</td>\n",
       "      <td>2012</td>\n",
       "      <td>12</td>\n",
       "      <td>30</td>\n",
       "      <td>17</td>\n",
       "      <td>4</td>\n",
       "      <td>6</td>\n",
       "    </tr>\n",
       "    <tr>\n",
       "      <th>3</th>\n",
       "      <td>2009-09-19 00:12:00.00000065</td>\n",
       "      <td>13.7</td>\n",
       "      <td>2009-09-18 20:12:00+00:00</td>\n",
       "      <td>0.000000</td>\n",
       "      <td>0.000000</td>\n",
       "      <td>0.000000</td>\n",
       "      <td>0.000000</td>\n",
       "      <td>5</td>\n",
       "      <td>2009</td>\n",
       "      <td>9</td>\n",
       "      <td>18</td>\n",
       "      <td>20</td>\n",
       "      <td>12</td>\n",
       "      <td>4</td>\n",
       "    </tr>\n",
       "    <tr>\n",
       "      <th>4</th>\n",
       "      <td>2010-05-03 10:22:09.0000004</td>\n",
       "      <td>9.7</td>\n",
       "      <td>2010-05-03 06:22:09+00:00</td>\n",
       "      <td>-73.985811</td>\n",
       "      <td>40.717965</td>\n",
       "      <td>-73.979805</td>\n",
       "      <td>40.748685</td>\n",
       "      <td>1</td>\n",
       "      <td>2010</td>\n",
       "      <td>5</td>\n",
       "      <td>3</td>\n",
       "      <td>6</td>\n",
       "      <td>22</td>\n",
       "      <td>0</td>\n",
       "    </tr>\n",
       "  </tbody>\n",
       "</table>\n",
       "</div>"
      ],
      "text/plain": [
       "                             key  fare_amount           pickup_datetime  \\\n",
       "0    2011-11-21 12:12:23.0000001          7.3 2011-11-21 08:12:23+00:00   \n",
       "1    2012-02-09 14:08:36.0000001          6.5 2012-02-09 10:08:36+00:00   \n",
       "2  2012-12-30 21:04:00.000000163          6.5 2012-12-30 17:04:00+00:00   \n",
       "3   2009-09-19 00:12:00.00000065         13.7 2009-09-18 20:12:00+00:00   \n",
       "4    2010-05-03 10:22:09.0000004          9.7 2010-05-03 06:22:09+00:00   \n",
       "\n",
       "   pickup_longitude  pickup_latitude  dropoff_longitude  dropoff_latitude  \\\n",
       "0        -73.971863        40.760189         -73.955239         40.782976   \n",
       "1        -73.969345        40.749676         -73.950876         40.770764   \n",
       "2        -73.945297        40.775255         -73.959260         40.768440   \n",
       "3          0.000000         0.000000           0.000000          0.000000   \n",
       "4        -73.985811        40.717965         -73.979805         40.748685   \n",
       "\n",
       "   passenger_count  year  month  day  hour  minute  weekday  \n",
       "0                1  2011     11   21     8      12        0  \n",
       "1                1  2012      2    9    10       8        3  \n",
       "2                5  2012     12   30    17       4        6  \n",
       "3                5  2009      9   18    20      12        4  \n",
       "4                1  2010      5    3     6      22        0  "
      ]
     },
     "execution_count": 13,
     "metadata": {},
     "output_type": "execute_result"
    }
   ],
   "source": [
    "taxi_fare.head()"
   ]
  },
  {
   "cell_type": "code",
   "execution_count": 14,
   "metadata": {},
   "outputs": [
    {
     "data": {
      "text/html": [
       "<div>\n",
       "<style scoped>\n",
       "    .dataframe tbody tr th:only-of-type {\n",
       "        vertical-align: middle;\n",
       "    }\n",
       "\n",
       "    .dataframe tbody tr th {\n",
       "        vertical-align: top;\n",
       "    }\n",
       "\n",
       "    .dataframe thead th {\n",
       "        text-align: right;\n",
       "    }\n",
       "</style>\n",
       "<table border=\"1\" class=\"dataframe\">\n",
       "  <thead>\n",
       "    <tr style=\"text-align: right;\">\n",
       "      <th></th>\n",
       "      <th>fare_amount</th>\n",
       "      <th>pickup_longitude</th>\n",
       "      <th>pickup_latitude</th>\n",
       "      <th>dropoff_longitude</th>\n",
       "      <th>dropoff_latitude</th>\n",
       "      <th>passenger_count</th>\n",
       "      <th>year</th>\n",
       "      <th>month</th>\n",
       "      <th>day</th>\n",
       "      <th>hour</th>\n",
       "      <th>minute</th>\n",
       "      <th>weekday</th>\n",
       "    </tr>\n",
       "  </thead>\n",
       "  <tbody>\n",
       "    <tr>\n",
       "      <th>count</th>\n",
       "      <td>5.542386e+06</td>\n",
       "      <td>5.542386e+06</td>\n",
       "      <td>5.542386e+06</td>\n",
       "      <td>5.542352e+06</td>\n",
       "      <td>5.542352e+06</td>\n",
       "      <td>5.542386e+06</td>\n",
       "      <td>5.542386e+06</td>\n",
       "      <td>5.542386e+06</td>\n",
       "      <td>5.542386e+06</td>\n",
       "      <td>5.542386e+06</td>\n",
       "      <td>5.542386e+06</td>\n",
       "      <td>5.542386e+06</td>\n",
       "    </tr>\n",
       "    <tr>\n",
       "      <th>mean</th>\n",
       "      <td>1.135938e+01</td>\n",
       "      <td>-7.250369e+01</td>\n",
       "      <td>3.991825e+01</td>\n",
       "      <td>-7.250622e+01</td>\n",
       "      <td>3.992103e+01</td>\n",
       "      <td>1.685602e+00</td>\n",
       "      <td>2.011737e+03</td>\n",
       "      <td>6.268715e+00</td>\n",
       "      <td>1.572539e+01</td>\n",
       "      <td>1.207144e+01</td>\n",
       "      <td>2.958553e+01</td>\n",
       "      <td>2.987577e+00</td>\n",
       "    </tr>\n",
       "    <tr>\n",
       "      <th>std</th>\n",
       "      <td>4.112289e+01</td>\n",
       "      <td>1.220157e+01</td>\n",
       "      <td>8.830634e+00</td>\n",
       "      <td>1.186357e+01</td>\n",
       "      <td>8.674950e+00</td>\n",
       "      <td>1.339037e+00</td>\n",
       "      <td>1.859832e+00</td>\n",
       "      <td>3.435876e+00</td>\n",
       "      <td>8.680526e+00</td>\n",
       "      <td>5.830325e+00</td>\n",
       "      <td>1.732761e+01</td>\n",
       "      <td>1.906964e+00</td>\n",
       "    </tr>\n",
       "    <tr>\n",
       "      <th>min</th>\n",
       "      <td>-1.000000e+02</td>\n",
       "      <td>-3.384713e+03</td>\n",
       "      <td>-3.432139e+03</td>\n",
       "      <td>-3.367929e+03</td>\n",
       "      <td>-3.147510e+03</td>\n",
       "      <td>0.000000e+00</td>\n",
       "      <td>2.008000e+03</td>\n",
       "      <td>1.000000e+00</td>\n",
       "      <td>1.000000e+00</td>\n",
       "      <td>0.000000e+00</td>\n",
       "      <td>0.000000e+00</td>\n",
       "      <td>0.000000e+00</td>\n",
       "    </tr>\n",
       "    <tr>\n",
       "      <th>25%</th>\n",
       "      <td>6.000000e+00</td>\n",
       "      <td>-7.399207e+01</td>\n",
       "      <td>4.073492e+01</td>\n",
       "      <td>-7.399140e+01</td>\n",
       "      <td>4.073401e+01</td>\n",
       "      <td>1.000000e+00</td>\n",
       "      <td>2.010000e+03</td>\n",
       "      <td>3.000000e+00</td>\n",
       "      <td>8.000000e+00</td>\n",
       "      <td>7.000000e+00</td>\n",
       "      <td>1.500000e+01</td>\n",
       "      <td>1.000000e+00</td>\n",
       "    </tr>\n",
       "    <tr>\n",
       "      <th>50%</th>\n",
       "      <td>8.500000e+00</td>\n",
       "      <td>-7.398180e+01</td>\n",
       "      <td>4.075265e+01</td>\n",
       "      <td>-7.398014e+01</td>\n",
       "      <td>4.075315e+01</td>\n",
       "      <td>1.000000e+00</td>\n",
       "      <td>2.012000e+03</td>\n",
       "      <td>6.000000e+00</td>\n",
       "      <td>1.600000e+01</td>\n",
       "      <td>1.300000e+01</td>\n",
       "      <td>3.000000e+01</td>\n",
       "      <td>3.000000e+00</td>\n",
       "    </tr>\n",
       "    <tr>\n",
       "      <th>75%</th>\n",
       "      <td>1.250000e+01</td>\n",
       "      <td>-7.396706e+01</td>\n",
       "      <td>4.076712e+01</td>\n",
       "      <td>-7.396368e+01</td>\n",
       "      <td>4.076810e+01</td>\n",
       "      <td>2.000000e+00</td>\n",
       "      <td>2.013000e+03</td>\n",
       "      <td>9.000000e+00</td>\n",
       "      <td>2.300000e+01</td>\n",
       "      <td>1.700000e+01</td>\n",
       "      <td>4.500000e+01</td>\n",
       "      <td>5.000000e+00</td>\n",
       "    </tr>\n",
       "    <tr>\n",
       "      <th>max</th>\n",
       "      <td>9.396336e+04</td>\n",
       "      <td>3.438031e+03</td>\n",
       "      <td>3.347259e+03</td>\n",
       "      <td>3.411464e+03</td>\n",
       "      <td>3.537133e+03</td>\n",
       "      <td>2.080000e+02</td>\n",
       "      <td>2.015000e+03</td>\n",
       "      <td>1.200000e+01</td>\n",
       "      <td>3.100000e+01</td>\n",
       "      <td>2.300000e+01</td>\n",
       "      <td>5.900000e+01</td>\n",
       "      <td>6.000000e+00</td>\n",
       "    </tr>\n",
       "  </tbody>\n",
       "</table>\n",
       "</div>"
      ],
      "text/plain": [
       "        fare_amount  pickup_longitude  pickup_latitude  dropoff_longitude  \\\n",
       "count  5.542386e+06      5.542386e+06     5.542386e+06       5.542352e+06   \n",
       "mean   1.135938e+01     -7.250369e+01     3.991825e+01      -7.250622e+01   \n",
       "std    4.112289e+01      1.220157e+01     8.830634e+00       1.186357e+01   \n",
       "min   -1.000000e+02     -3.384713e+03    -3.432139e+03      -3.367929e+03   \n",
       "25%    6.000000e+00     -7.399207e+01     4.073492e+01      -7.399140e+01   \n",
       "50%    8.500000e+00     -7.398180e+01     4.075265e+01      -7.398014e+01   \n",
       "75%    1.250000e+01     -7.396706e+01     4.076712e+01      -7.396368e+01   \n",
       "max    9.396336e+04      3.438031e+03     3.347259e+03       3.411464e+03   \n",
       "\n",
       "       dropoff_latitude  passenger_count          year         month  \\\n",
       "count      5.542352e+06     5.542386e+06  5.542386e+06  5.542386e+06   \n",
       "mean       3.992103e+01     1.685602e+00  2.011737e+03  6.268715e+00   \n",
       "std        8.674950e+00     1.339037e+00  1.859832e+00  3.435876e+00   \n",
       "min       -3.147510e+03     0.000000e+00  2.008000e+03  1.000000e+00   \n",
       "25%        4.073401e+01     1.000000e+00  2.010000e+03  3.000000e+00   \n",
       "50%        4.075315e+01     1.000000e+00  2.012000e+03  6.000000e+00   \n",
       "75%        4.076810e+01     2.000000e+00  2.013000e+03  9.000000e+00   \n",
       "max        3.537133e+03     2.080000e+02  2.015000e+03  1.200000e+01   \n",
       "\n",
       "                day          hour        minute       weekday  \n",
       "count  5.542386e+06  5.542386e+06  5.542386e+06  5.542386e+06  \n",
       "mean   1.572539e+01  1.207144e+01  2.958553e+01  2.987577e+00  \n",
       "std    8.680526e+00  5.830325e+00  1.732761e+01  1.906964e+00  \n",
       "min    1.000000e+00  0.000000e+00  0.000000e+00  0.000000e+00  \n",
       "25%    8.000000e+00  7.000000e+00  1.500000e+01  1.000000e+00  \n",
       "50%    1.600000e+01  1.300000e+01  3.000000e+01  3.000000e+00  \n",
       "75%    2.300000e+01  1.700000e+01  4.500000e+01  5.000000e+00  \n",
       "max    3.100000e+01  2.300000e+01  5.900000e+01  6.000000e+00  "
      ]
     },
     "execution_count": 14,
     "metadata": {},
     "output_type": "execute_result"
    }
   ],
   "source": [
    "taxi_fare.describe()"
   ]
  },
  {
   "cell_type": "markdown",
   "metadata": {},
   "source": [
    " #### Cleaning and filtering the data by removing the outliers. According to NYC state rule a cab cannot accomodate more than 8 passengers. \n"
   ]
  },
  {
   "cell_type": "code",
   "execution_count": 15,
   "metadata": {},
   "outputs": [],
   "source": [
    "def get_cleaned(df):\n",
    "    return df[(df.fare_amount > 0) & (df.fare_amount<30) & (df.year>2008) &\n",
    "              (df.pickup_latitude > 35) & (df.pickup_latitude < 45) &\n",
    "              (df.pickup_longitude > -80) & (df.pickup_longitude < -68) &\n",
    "              (df.dropoff_latitude > 35) & (df.dropoff_latitude < 45) &\n",
    "              (df.pickup_longitude > -80) & (df.dropoff_longitude < -68) &\n",
    "              (df.passenger_count > 0) & (df.passenger_count < 8)]\n"
   ]
  },
  {
   "cell_type": "code",
   "execution_count": 16,
   "metadata": {},
   "outputs": [],
   "source": [
    "taxifare_cleaned=get_cleaned(taxi_fare)"
   ]
  },
  {
   "cell_type": "code",
   "execution_count": 17,
   "metadata": {},
   "outputs": [
    {
     "data": {
      "text/html": [
       "<div>\n",
       "<style scoped>\n",
       "    .dataframe tbody tr th:only-of-type {\n",
       "        vertical-align: middle;\n",
       "    }\n",
       "\n",
       "    .dataframe tbody tr th {\n",
       "        vertical-align: top;\n",
       "    }\n",
       "\n",
       "    .dataframe thead th {\n",
       "        text-align: right;\n",
       "    }\n",
       "</style>\n",
       "<table border=\"1\" class=\"dataframe\">\n",
       "  <thead>\n",
       "    <tr style=\"text-align: right;\">\n",
       "      <th></th>\n",
       "      <th>fare_amount</th>\n",
       "      <th>pickup_longitude</th>\n",
       "      <th>pickup_latitude</th>\n",
       "      <th>dropoff_longitude</th>\n",
       "      <th>dropoff_latitude</th>\n",
       "      <th>passenger_count</th>\n",
       "      <th>year</th>\n",
       "      <th>month</th>\n",
       "      <th>day</th>\n",
       "      <th>hour</th>\n",
       "      <th>minute</th>\n",
       "      <th>weekday</th>\n",
       "    </tr>\n",
       "  </thead>\n",
       "  <tbody>\n",
       "    <tr>\n",
       "      <th>count</th>\n",
       "      <td>5.130642e+06</td>\n",
       "      <td>5.130642e+06</td>\n",
       "      <td>5.130642e+06</td>\n",
       "      <td>5.130642e+06</td>\n",
       "      <td>5.130642e+06</td>\n",
       "      <td>5.130642e+06</td>\n",
       "      <td>5.130642e+06</td>\n",
       "      <td>5.130642e+06</td>\n",
       "      <td>5.130642e+06</td>\n",
       "      <td>5.130642e+06</td>\n",
       "      <td>5.130642e+06</td>\n",
       "      <td>5.130642e+06</td>\n",
       "    </tr>\n",
       "    <tr>\n",
       "      <th>mean</th>\n",
       "      <td>9.554162e+00</td>\n",
       "      <td>-7.397884e+01</td>\n",
       "      <td>4.075207e+01</td>\n",
       "      <td>-7.398257e+01</td>\n",
       "      <td>4.075228e+01</td>\n",
       "      <td>1.688199e+00</td>\n",
       "      <td>2.011709e+03</td>\n",
       "      <td>6.260606e+00</td>\n",
       "      <td>1.571853e+01</td>\n",
       "      <td>1.211991e+01</td>\n",
       "      <td>2.960629e+01</td>\n",
       "      <td>2.989967e+00</td>\n",
       "    </tr>\n",
       "    <tr>\n",
       "      <th>std</th>\n",
       "      <td>5.163524e+00</td>\n",
       "      <td>3.606788e-02</td>\n",
       "      <td>3.255437e-02</td>\n",
       "      <td>1.996549e+00</td>\n",
       "      <td>3.466233e-02</td>\n",
       "      <td>1.305497e+00</td>\n",
       "      <td>1.862204e+00</td>\n",
       "      <td>3.438556e+00</td>\n",
       "      <td>8.681470e+00</td>\n",
       "      <td>5.829116e+00</td>\n",
       "      <td>1.732695e+01</td>\n",
       "      <td>1.904041e+00</td>\n",
       "    </tr>\n",
       "    <tr>\n",
       "      <th>min</th>\n",
       "      <td>1.000000e-02</td>\n",
       "      <td>-7.976667e+01</td>\n",
       "      <td>3.504246e+01</td>\n",
       "      <td>-1.404460e+03</td>\n",
       "      <td>3.518952e+01</td>\n",
       "      <td>1.000000e+00</td>\n",
       "      <td>2.009000e+03</td>\n",
       "      <td>1.000000e+00</td>\n",
       "      <td>1.000000e+00</td>\n",
       "      <td>0.000000e+00</td>\n",
       "      <td>0.000000e+00</td>\n",
       "      <td>0.000000e+00</td>\n",
       "    </tr>\n",
       "    <tr>\n",
       "      <th>25%</th>\n",
       "      <td>6.000000e+00</td>\n",
       "      <td>-7.399254e+01</td>\n",
       "      <td>4.073717e+01</td>\n",
       "      <td>-7.399174e+01</td>\n",
       "      <td>4.073661e+01</td>\n",
       "      <td>1.000000e+00</td>\n",
       "      <td>2.010000e+03</td>\n",
       "      <td>3.000000e+00</td>\n",
       "      <td>8.000000e+00</td>\n",
       "      <td>7.000000e+00</td>\n",
       "      <td>1.500000e+01</td>\n",
       "      <td>1.000000e+00</td>\n",
       "    </tr>\n",
       "    <tr>\n",
       "      <th>50%</th>\n",
       "      <td>8.100000e+00</td>\n",
       "      <td>-7.398235e+01</td>\n",
       "      <td>4.075343e+01</td>\n",
       "      <td>-7.398098e+01</td>\n",
       "      <td>4.075400e+01</td>\n",
       "      <td>1.000000e+00</td>\n",
       "      <td>2.012000e+03</td>\n",
       "      <td>6.000000e+00</td>\n",
       "      <td>1.600000e+01</td>\n",
       "      <td>1.300000e+01</td>\n",
       "      <td>3.000000e+01</td>\n",
       "      <td>3.000000e+00</td>\n",
       "    </tr>\n",
       "    <tr>\n",
       "      <th>75%</th>\n",
       "      <td>1.170000e+01</td>\n",
       "      <td>-7.396967e+01</td>\n",
       "      <td>4.076726e+01</td>\n",
       "      <td>-7.396682e+01</td>\n",
       "      <td>4.076833e+01</td>\n",
       "      <td>2.000000e+00</td>\n",
       "      <td>2.013000e+03</td>\n",
       "      <td>9.000000e+00</td>\n",
       "      <td>2.300000e+01</td>\n",
       "      <td>1.700000e+01</td>\n",
       "      <td>4.500000e+01</td>\n",
       "      <td>5.000000e+00</td>\n",
       "    </tr>\n",
       "    <tr>\n",
       "      <th>max</th>\n",
       "      <td>2.997000e+01</td>\n",
       "      <td>-6.803000e+01</td>\n",
       "      <td>4.498333e+01</td>\n",
       "      <td>-6.803000e+01</td>\n",
       "      <td>4.493188e+01</td>\n",
       "      <td>7.000000e+00</td>\n",
       "      <td>2.015000e+03</td>\n",
       "      <td>1.200000e+01</td>\n",
       "      <td>3.100000e+01</td>\n",
       "      <td>2.300000e+01</td>\n",
       "      <td>5.900000e+01</td>\n",
       "      <td>6.000000e+00</td>\n",
       "    </tr>\n",
       "  </tbody>\n",
       "</table>\n",
       "</div>"
      ],
      "text/plain": [
       "        fare_amount  pickup_longitude  pickup_latitude  dropoff_longitude  \\\n",
       "count  5.130642e+06      5.130642e+06     5.130642e+06       5.130642e+06   \n",
       "mean   9.554162e+00     -7.397884e+01     4.075207e+01      -7.398257e+01   \n",
       "std    5.163524e+00      3.606788e-02     3.255437e-02       1.996549e+00   \n",
       "min    1.000000e-02     -7.976667e+01     3.504246e+01      -1.404460e+03   \n",
       "25%    6.000000e+00     -7.399254e+01     4.073717e+01      -7.399174e+01   \n",
       "50%    8.100000e+00     -7.398235e+01     4.075343e+01      -7.398098e+01   \n",
       "75%    1.170000e+01     -7.396967e+01     4.076726e+01      -7.396682e+01   \n",
       "max    2.997000e+01     -6.803000e+01     4.498333e+01      -6.803000e+01   \n",
       "\n",
       "       dropoff_latitude  passenger_count          year         month  \\\n",
       "count      5.130642e+06     5.130642e+06  5.130642e+06  5.130642e+06   \n",
       "mean       4.075228e+01     1.688199e+00  2.011709e+03  6.260606e+00   \n",
       "std        3.466233e-02     1.305497e+00  1.862204e+00  3.438556e+00   \n",
       "min        3.518952e+01     1.000000e+00  2.009000e+03  1.000000e+00   \n",
       "25%        4.073661e+01     1.000000e+00  2.010000e+03  3.000000e+00   \n",
       "50%        4.075400e+01     1.000000e+00  2.012000e+03  6.000000e+00   \n",
       "75%        4.076833e+01     2.000000e+00  2.013000e+03  9.000000e+00   \n",
       "max        4.493188e+01     7.000000e+00  2.015000e+03  1.200000e+01   \n",
       "\n",
       "                day          hour        minute       weekday  \n",
       "count  5.130642e+06  5.130642e+06  5.130642e+06  5.130642e+06  \n",
       "mean   1.571853e+01  1.211991e+01  2.960629e+01  2.989967e+00  \n",
       "std    8.681470e+00  5.829116e+00  1.732695e+01  1.904041e+00  \n",
       "min    1.000000e+00  0.000000e+00  0.000000e+00  0.000000e+00  \n",
       "25%    8.000000e+00  7.000000e+00  1.500000e+01  1.000000e+00  \n",
       "50%    1.600000e+01  1.300000e+01  3.000000e+01  3.000000e+00  \n",
       "75%    2.300000e+01  1.700000e+01  4.500000e+01  5.000000e+00  \n",
       "max    3.100000e+01  2.300000e+01  5.900000e+01  6.000000e+00  "
      ]
     },
     "execution_count": 17,
     "metadata": {},
     "output_type": "execute_result"
    }
   ],
   "source": [
    "taxifare_cleaned.describe()"
   ]
  },
  {
   "cell_type": "markdown",
   "metadata": {},
   "source": [
    "#### Calculating the distance between pickup and dropoff locations by calculating the haversine distance between pickup and dropoff cordinates. The haversine formula determines the great-circle distance between two points on a sphere given their longitudes and latitudes. "
   ]
  },
  {
   "cell_type": "code",
   "execution_count": 18,
   "metadata": {},
   "outputs": [],
   "source": [
    "def haversinedistance(df):\n",
    "   \n",
    "    latitude1= np.radians(df[\"pickup_latitude\"])\n",
    "    latitude2 = np.radians(df[\"dropoff_latitude\"])\n",
    "   \n",
    "    dlatitude = np.radians(df['dropoff_latitude']-df[\"pickup_latitude\"])\n",
    "    dlongitude = np.radians(df[\"dropoff_longitude\"]-df[\"pickup_longitude\"])\n",
    "    a = np.sin(dlatitude/2)**2 + np.cos(latitude1) * np.cos(latitude2) * np.sin(dlongitude/2)**2\n",
    "\n",
    "    b = 2 * np.arctan2(np.sqrt(a), np.sqrt(1-a))\n",
    "    r = 3956 #radius of earth inn miles\n",
    "    return b * r"
   ]
  },
  {
   "cell_type": "code",
   "execution_count": 19,
   "metadata": {},
   "outputs": [
    {
     "name": "stderr",
     "output_type": "stream",
     "text": [
      "C:\\Users\\KEVIN\\anaconda3\\lib\\site-packages\\ipykernel_launcher.py:1: SettingWithCopyWarning: \n",
      "A value is trying to be set on a copy of a slice from a DataFrame.\n",
      "Try using .loc[row_indexer,col_indexer] = value instead\n",
      "\n",
      "See the caveats in the documentation: https://pandas.pydata.org/pandas-docs/stable/user_guide/indexing.html#returning-a-view-versus-a-copy\n",
      "  \"\"\"Entry point for launching an IPython kernel.\n"
     ]
    }
   ],
   "source": [
    "taxifare_cleaned['total_distance']=haversinedistance(taxifare_cleaned)"
   ]
  },
  {
   "cell_type": "code",
   "execution_count": 20,
   "metadata": {},
   "outputs": [
    {
     "data": {
      "text/html": [
       "<div>\n",
       "<style scoped>\n",
       "    .dataframe tbody tr th:only-of-type {\n",
       "        vertical-align: middle;\n",
       "    }\n",
       "\n",
       "    .dataframe tbody tr th {\n",
       "        vertical-align: top;\n",
       "    }\n",
       "\n",
       "    .dataframe thead th {\n",
       "        text-align: right;\n",
       "    }\n",
       "</style>\n",
       "<table border=\"1\" class=\"dataframe\">\n",
       "  <thead>\n",
       "    <tr style=\"text-align: right;\">\n",
       "      <th></th>\n",
       "      <th>key</th>\n",
       "      <th>fare_amount</th>\n",
       "      <th>pickup_datetime</th>\n",
       "      <th>pickup_longitude</th>\n",
       "      <th>pickup_latitude</th>\n",
       "      <th>dropoff_longitude</th>\n",
       "      <th>dropoff_latitude</th>\n",
       "      <th>passenger_count</th>\n",
       "      <th>year</th>\n",
       "      <th>month</th>\n",
       "      <th>day</th>\n",
       "      <th>hour</th>\n",
       "      <th>minute</th>\n",
       "      <th>weekday</th>\n",
       "      <th>total_distance</th>\n",
       "    </tr>\n",
       "  </thead>\n",
       "  <tbody>\n",
       "    <tr>\n",
       "      <th>0</th>\n",
       "      <td>2011-11-21 12:12:23.0000001</td>\n",
       "      <td>7.3</td>\n",
       "      <td>2011-11-21 08:12:23+00:00</td>\n",
       "      <td>-73.971863</td>\n",
       "      <td>40.760189</td>\n",
       "      <td>-73.955239</td>\n",
       "      <td>40.782976</td>\n",
       "      <td>1</td>\n",
       "      <td>2011</td>\n",
       "      <td>11</td>\n",
       "      <td>21</td>\n",
       "      <td>8</td>\n",
       "      <td>12</td>\n",
       "      <td>0</td>\n",
       "      <td>1.797494</td>\n",
       "    </tr>\n",
       "    <tr>\n",
       "      <th>1</th>\n",
       "      <td>2012-02-09 14:08:36.0000001</td>\n",
       "      <td>6.5</td>\n",
       "      <td>2012-02-09 10:08:36+00:00</td>\n",
       "      <td>-73.969345</td>\n",
       "      <td>40.749676</td>\n",
       "      <td>-73.950876</td>\n",
       "      <td>40.770764</td>\n",
       "      <td>1</td>\n",
       "      <td>2012</td>\n",
       "      <td>2</td>\n",
       "      <td>9</td>\n",
       "      <td>10</td>\n",
       "      <td>8</td>\n",
       "      <td>3</td>\n",
       "      <td>1.747274</td>\n",
       "    </tr>\n",
       "    <tr>\n",
       "      <th>2</th>\n",
       "      <td>2012-12-30 21:04:00.000000163</td>\n",
       "      <td>6.5</td>\n",
       "      <td>2012-12-30 17:04:00+00:00</td>\n",
       "      <td>-73.945297</td>\n",
       "      <td>40.775255</td>\n",
       "      <td>-73.959260</td>\n",
       "      <td>40.768440</td>\n",
       "      <td>5</td>\n",
       "      <td>2012</td>\n",
       "      <td>12</td>\n",
       "      <td>30</td>\n",
       "      <td>17</td>\n",
       "      <td>4</td>\n",
       "      <td>6</td>\n",
       "      <td>0.868605</td>\n",
       "    </tr>\n",
       "    <tr>\n",
       "      <th>4</th>\n",
       "      <td>2010-05-03 10:22:09.0000004</td>\n",
       "      <td>9.7</td>\n",
       "      <td>2010-05-03 06:22:09+00:00</td>\n",
       "      <td>-73.985811</td>\n",
       "      <td>40.717965</td>\n",
       "      <td>-73.979805</td>\n",
       "      <td>40.748685</td>\n",
       "      <td>1</td>\n",
       "      <td>2010</td>\n",
       "      <td>5</td>\n",
       "      <td>3</td>\n",
       "      <td>6</td>\n",
       "      <td>22</td>\n",
       "      <td>0</td>\n",
       "      <td>2.144219</td>\n",
       "    </tr>\n",
       "    <tr>\n",
       "      <th>5</th>\n",
       "      <td>2013-10-13 02:39:00.000000180</td>\n",
       "      <td>6.5</td>\n",
       "      <td>2013-10-12 22:39:00+00:00</td>\n",
       "      <td>-73.990437</td>\n",
       "      <td>40.755912</td>\n",
       "      <td>-73.972912</td>\n",
       "      <td>40.750320</td>\n",
       "      <td>1</td>\n",
       "      <td>2013</td>\n",
       "      <td>10</td>\n",
       "      <td>12</td>\n",
       "      <td>22</td>\n",
       "      <td>39</td>\n",
       "      <td>5</td>\n",
       "      <td>0.994622</td>\n",
       "    </tr>\n",
       "  </tbody>\n",
       "</table>\n",
       "</div>"
      ],
      "text/plain": [
       "                             key  fare_amount           pickup_datetime  \\\n",
       "0    2011-11-21 12:12:23.0000001          7.3 2011-11-21 08:12:23+00:00   \n",
       "1    2012-02-09 14:08:36.0000001          6.5 2012-02-09 10:08:36+00:00   \n",
       "2  2012-12-30 21:04:00.000000163          6.5 2012-12-30 17:04:00+00:00   \n",
       "4    2010-05-03 10:22:09.0000004          9.7 2010-05-03 06:22:09+00:00   \n",
       "5  2013-10-13 02:39:00.000000180          6.5 2013-10-12 22:39:00+00:00   \n",
       "\n",
       "   pickup_longitude  pickup_latitude  dropoff_longitude  dropoff_latitude  \\\n",
       "0        -73.971863        40.760189         -73.955239         40.782976   \n",
       "1        -73.969345        40.749676         -73.950876         40.770764   \n",
       "2        -73.945297        40.775255         -73.959260         40.768440   \n",
       "4        -73.985811        40.717965         -73.979805         40.748685   \n",
       "5        -73.990437        40.755912         -73.972912         40.750320   \n",
       "\n",
       "   passenger_count  year  month  day  hour  minute  weekday  total_distance  \n",
       "0                1  2011     11   21     8      12        0        1.797494  \n",
       "1                1  2012      2    9    10       8        3        1.747274  \n",
       "2                5  2012     12   30    17       4        6        0.868605  \n",
       "4                1  2010      5    3     6      22        0        2.144219  \n",
       "5                1  2013     10   12    22      39        5        0.994622  "
      ]
     },
     "execution_count": 20,
     "metadata": {},
     "output_type": "execute_result"
    }
   ],
   "source": [
    "taxifare_cleaned.head()"
   ]
  },
  {
   "cell_type": "code",
   "execution_count": 21,
   "metadata": {},
   "outputs": [],
   "source": [
    "taxifare_cleaned=taxifare_cleaned[taxifare_cleaned.total_distance<50]"
   ]
  },
  {
   "cell_type": "code",
   "execution_count": 22,
   "metadata": {},
   "outputs": [
    {
     "data": {
      "text/plain": [
       "(5129135, 15)"
      ]
     },
     "execution_count": 22,
     "metadata": {},
     "output_type": "execute_result"
    }
   ],
   "source": [
    "taxifare_cleaned.shape"
   ]
  },
  {
   "cell_type": "markdown",
   "metadata": {},
   "source": [
    "### Analysis using data visualization"
   ]
  },
  {
   "cell_type": "code",
   "execution_count": 23,
   "metadata": {},
   "outputs": [
    {
     "data": {
      "image/png": "[encoded data removed]",
      "text/plain": [
       "<Figure size 720x360 with 1 Axes>"
      ]
     },
     "metadata": {
      "needs_background": "light"
     },
     "output_type": "display_data"
    }
   ],
   "source": [
    "plt.figure(figsize=(10,5))\n",
    "sns.lineplot(x=\"year\", y=\"fare_amount\", data=taxifare_cleaned, color=\"#fdb813\")\n",
    "plt.title(\"Fare among years\",fontsize=20)\n",
    "plt.ylabel('fare')\n",
    "plt.show()\n"
   ]
  },
  {
   "cell_type": "markdown",
   "metadata": {},
   "source": [
    "#### The fare appears to be increasing over the years. There is a sudden increase in the price after 2012, this might be because of the sudden price hike in petrol and diesel happened during 2012."
   ]
  },
  {
   "cell_type": "code",
   "execution_count": 24,
   "metadata": {},
   "outputs": [
    {
     "data": {
      "text/plain": [
       "Text(0.5, 1.0, 'Count of number of passengers')"
      ]
     },
     "execution_count": 24,
     "metadata": {},
     "output_type": "execute_result"
    },
    {
     "data": {
      "image/png": "[encoded data removed]",
      "text/plain": [
       "<Figure size 432x288 with 1 Axes>"
      ]
     },
     "metadata": {
      "needs_background": "light"
     },
     "output_type": "display_data"
    }
   ],
   "source": [
    "sns.countplot(x='passenger_count',data=taxifare_cleaned)\n",
    "plt.title('Count of number of passengers',fontsize=15)"
   ]
  },
  {
   "cell_type": "markdown",
   "metadata": {},
   "source": [
    "#### It can be seen that majority of the taxi rides contains only single passengers."
   ]
  },
  {
   "cell_type": "code",
   "execution_count": 25,
   "metadata": {},
   "outputs": [
    {
     "data": {
      "text/plain": [
       "Text(0.5, 1.0, 'Frequency of tax rides for each hour in a day')"
      ]
     },
     "execution_count": 25,
     "metadata": {},
     "output_type": "execute_result"
    },
    {
     "data": {
      "image/png": "[encoded data removed]",
      "text/plain": [
       "<Figure size 432x288 with 1 Axes>"
      ]
     },
     "metadata": {
      "needs_background": "light"
     },
     "output_type": "display_data"
    }
   ],
   "source": [
    "\n",
    "sns.distplot(taxi_fare['hour'],bins=20,kde=False,  hist_kws={\"rwidth\":0.75,'edgecolor':'black', 'alpha':1.0})\n",
    "plt.title('Frequency of tax rides for each hour in a day',fontsize=15)"
   ]
  },
  {
   "cell_type": "markdown",
   "metadata": {},
   "source": [
    "#### We can see that majority of taxi rides happen during morning and afternoon. This might be because of most of the working professionals who hires their cab during the morning and evening time."
   ]
  },
  {
   "cell_type": "code",
   "execution_count": 26,
   "metadata": {
    "scrolled": true
   },
   "outputs": [
    {
     "data": {
      "text/plain": [
       "Text(0.5, 1.0, 'Distribution of fare for each hour in a day')"
      ]
     },
     "execution_count": 26,
     "metadata": {},
     "output_type": "execute_result"
    },
    {
     "data": {
      "image/png": "[encoded data removed]",
      "text/plain": [
       "<Figure size 576x360 with 1 Axes>"
      ]
     },
     "metadata": {
      "needs_background": "light"
     },
     "output_type": "display_data"
    }
   ],
   "source": [
    "plt.figure(figsize=(8,5))\n",
    "sns.boxplot(x='hour',y='fare_amount',data=taxifare_cleaned,palette='winter')\n",
    "plt.title('Distribution of fare for each hour in a day',fontsize=15)"
   ]
  },
  {
   "cell_type": "markdown",
   "metadata": {},
   "source": [
    "#### It can be inferred from the side by side boxplots that the fare is considerably high during midnight and after 6pm."
   ]
  },
  {
   "cell_type": "code",
   "execution_count": 27,
   "metadata": {
    "scrolled": true
   },
   "outputs": [
    {
     "data": {
      "text/plain": [
       "Text(0.5, 1.0, 'Distribution of fare for different passenger count')"
      ]
     },
     "execution_count": 27,
     "metadata": {},
     "output_type": "execute_result"
    },
    {
     "data": {
      "image/png": "[encoded data removed]",
      "text/plain": [
       "<Figure size 720x360 with 1 Axes>"
      ]
     },
     "metadata": {
      "needs_background": "light"
     },
     "output_type": "display_data"
    }
   ],
   "source": [
    "plt.figure(figsize=(10,5))\n",
    "sns.boxplot(x='passenger_count',y='fare_amount',data=taxifare_cleaned,palette='winter')\n",
    "plt.title('Distribution of fare for different passenger count',fontsize=15)"
   ]
  },
  {
   "cell_type": "markdown",
   "metadata": {},
   "source": [
    "#### We can see that the taxi fare is significantly high if the number of passengers is more than 5. This is beacuse of the vehicle type used as a taxi which can accomodate more than 5 people (eg: a minivan). For a normal car which can accomodate upto 5 people the fare appears to be similar irrespective of the number of passengers."
   ]
  },
  {
   "cell_type": "code",
   "execution_count": 30,
   "metadata": {},
   "outputs": [
    {
     "data": {
      "image/png": "[encoded data removed]",
      "text/plain": [
       "<Figure size 1080x504 with 1 Axes>"
      ]
     },
     "metadata": {
      "needs_background": "light"
     },
     "output_type": "display_data"
    }
   ],
   "source": [
    "plt.figure(figsize=(15,7))\n",
    "sns.barplot(x='weekday', y=\"fare_amount\", data=taxifare_cleaned, palette='winter')\n",
    "plt.ylim(0,12)\n",
    "plt.title(\"Mean Fares among Days of the week\",fontsize=20)\n",
    "plt.xlabel('Day of Week')\n",
    "plt.ylabel('Mean fare')\n",
    "plt.show()"
   ]
  },
  {
   "cell_type": "markdown",
   "metadata": {},
   "source": [
    "#### From the above barchart we can say that there is no significant relation between the weekday and fare. The mean fare appears to be almost similar for all weekdays."
   ]
  },
  {
   "cell_type": "code",
   "execution_count": 31,
   "metadata": {},
   "outputs": [
    {
     "data": {
      "text/plain": [
       "Text(0.5, 1, 'Heatmap of correlation between each variables')"
      ]
     },
     "execution_count": 31,
     "metadata": {},
     "output_type": "execute_result"
    },
    {
     "data": {
      "image/png": "[encoded data removed]",
      "text/plain": [
       "<Figure size 864x720 with 2 Axes>"
      ]
     },
     "metadata": {
      "needs_background": "light"
     },
     "output_type": "display_data"
    }
   ],
   "source": [
    "fig,ax=plt.subplots(figsize=(12,10))\n",
    "sns.heatmap(taxifare_cleaned.corr(),linewidth=0.5,annot=True,cmap='viridis')\n",
    "plt.title('Heatmap of correlation between each variables',fontsize=20)"
   ]
  },
  {
   "cell_type": "markdown",
   "metadata": {},
   "source": [
    "#### By analysing the above heatmap we can identify that the total distance is highly correlated with the taxi fare followed by month. "
   ]
  },
  {
   "cell_type": "code",
   "execution_count": 32,
   "metadata": {},
   "outputs": [
    {
     "data": {
      "text/html": [
       "<div>\n",
       "<style scoped>\n",
       "    .dataframe tbody tr th:only-of-type {\n",
       "        vertical-align: middle;\n",
       "    }\n",
       "\n",
       "    .dataframe tbody tr th {\n",
       "        vertical-align: top;\n",
       "    }\n",
       "\n",
       "    .dataframe thead th {\n",
       "        text-align: right;\n",
       "    }\n",
       "</style>\n",
       "<table border=\"1\" class=\"dataframe\">\n",
       "  <thead>\n",
       "    <tr style=\"text-align: right;\">\n",
       "      <th></th>\n",
       "      <th>fare_amount</th>\n",
       "      <th>pickup_longitude</th>\n",
       "      <th>pickup_latitude</th>\n",
       "      <th>dropoff_longitude</th>\n",
       "      <th>dropoff_latitude</th>\n",
       "      <th>passenger_count</th>\n",
       "      <th>year</th>\n",
       "      <th>month</th>\n",
       "      <th>day</th>\n",
       "      <th>hour</th>\n",
       "      <th>minute</th>\n",
       "      <th>weekday</th>\n",
       "      <th>total_distance</th>\n",
       "    </tr>\n",
       "  </thead>\n",
       "  <tbody>\n",
       "    <tr>\n",
       "      <th>0</th>\n",
       "      <td>7.3</td>\n",
       "      <td>-73.971863</td>\n",
       "      <td>40.760189</td>\n",
       "      <td>-73.955239</td>\n",
       "      <td>40.782976</td>\n",
       "      <td>1</td>\n",
       "      <td>2011</td>\n",
       "      <td>11</td>\n",
       "      <td>21</td>\n",
       "      <td>8</td>\n",
       "      <td>12</td>\n",
       "      <td>0</td>\n",
       "      <td>1.797494</td>\n",
       "    </tr>\n",
       "    <tr>\n",
       "      <th>1</th>\n",
       "      <td>6.5</td>\n",
       "      <td>-73.969345</td>\n",
       "      <td>40.749676</td>\n",
       "      <td>-73.950876</td>\n",
       "      <td>40.770764</td>\n",
       "      <td>1</td>\n",
       "      <td>2012</td>\n",
       "      <td>2</td>\n",
       "      <td>9</td>\n",
       "      <td>10</td>\n",
       "      <td>8</td>\n",
       "      <td>3</td>\n",
       "      <td>1.747274</td>\n",
       "    </tr>\n",
       "    <tr>\n",
       "      <th>2</th>\n",
       "      <td>6.5</td>\n",
       "      <td>-73.945297</td>\n",
       "      <td>40.775255</td>\n",
       "      <td>-73.959260</td>\n",
       "      <td>40.768440</td>\n",
       "      <td>5</td>\n",
       "      <td>2012</td>\n",
       "      <td>12</td>\n",
       "      <td>30</td>\n",
       "      <td>17</td>\n",
       "      <td>4</td>\n",
       "      <td>6</td>\n",
       "      <td>0.868605</td>\n",
       "    </tr>\n",
       "    <tr>\n",
       "      <th>4</th>\n",
       "      <td>9.7</td>\n",
       "      <td>-73.985811</td>\n",
       "      <td>40.717965</td>\n",
       "      <td>-73.979805</td>\n",
       "      <td>40.748685</td>\n",
       "      <td>1</td>\n",
       "      <td>2010</td>\n",
       "      <td>5</td>\n",
       "      <td>3</td>\n",
       "      <td>6</td>\n",
       "      <td>22</td>\n",
       "      <td>0</td>\n",
       "      <td>2.144219</td>\n",
       "    </tr>\n",
       "    <tr>\n",
       "      <th>5</th>\n",
       "      <td>6.5</td>\n",
       "      <td>-73.990437</td>\n",
       "      <td>40.755912</td>\n",
       "      <td>-73.972912</td>\n",
       "      <td>40.750320</td>\n",
       "      <td>1</td>\n",
       "      <td>2013</td>\n",
       "      <td>10</td>\n",
       "      <td>12</td>\n",
       "      <td>22</td>\n",
       "      <td>39</td>\n",
       "      <td>5</td>\n",
       "      <td>0.994622</td>\n",
       "    </tr>\n",
       "  </tbody>\n",
       "</table>\n",
       "</div>"
      ],
      "text/plain": [
       "   fare_amount  pickup_longitude  pickup_latitude  dropoff_longitude  \\\n",
       "0          7.3        -73.971863        40.760189         -73.955239   \n",
       "1          6.5        -73.969345        40.749676         -73.950876   \n",
       "2          6.5        -73.945297        40.775255         -73.959260   \n",
       "4          9.7        -73.985811        40.717965         -73.979805   \n",
       "5          6.5        -73.990437        40.755912         -73.972912   \n",
       "\n",
       "   dropoff_latitude  passenger_count  year  month  day  hour  minute  weekday  \\\n",
       "0         40.782976                1  2011     11   21     8      12        0   \n",
       "1         40.770764                1  2012      2    9    10       8        3   \n",
       "2         40.768440                5  2012     12   30    17       4        6   \n",
       "4         40.748685                1  2010      5    3     6      22        0   \n",
       "5         40.750320                1  2013     10   12    22      39        5   \n",
       "\n",
       "   total_distance  \n",
       "0        1.797494  \n",
       "1        1.747274  \n",
       "2        0.868605  \n",
       "4        2.144219  \n",
       "5        0.994622  "
      ]
     },
     "execution_count": 32,
     "metadata": {},
     "output_type": "execute_result"
    }
   ],
   "source": [
    "taxifare_cleaned.drop(['key','pickup_datetime'],axis=1,inplace=True)\n",
    "taxifare_cleaned.head()"
   ]
  },
  {
   "cell_type": "markdown",
   "metadata": {},
   "source": [
    "#### Since the distance between pickup and dropoff point is calculated we can drop the coordinate variables as we no longer need them for training the model."
   ]
  }
 ],
 "metadata": {
  "kernelspec": {
   "display_name": "Python 3",
   "language": "python",
   "name": "python3"
  },
  "language_info": {
   "codemirror_mode": {
    "name": "ipython",
    "version": 3
   },
   "file_extension": ".py",
   "mimetype": "text/x-python",
   "name": "python",
   "nbconvert_exporter": "python",
   "pygments_lexer": "ipython3",
   "version": "3.7.6"
  }
 },
 "nbformat": 4,
 "nbformat_minor": 4
}
